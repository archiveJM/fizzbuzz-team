{
 "cells": [
  {
   "cell_type": "markdown",
   "metadata": {
    "id": "IhujE4SCSFpr"
   },
   "source": [
    "# 개요"
   ]
  },
  {
   "cell_type": "markdown",
   "metadata": {
    "id": "e2DDq4ujSdAB"
   },
   "source": [
    "여러분이 생각해봐야 할 기본적인 상황입니다.\n",
    "\n",
    "- 패스트캠퍼스의 비즈니스 모델은 어떻게 될까요?\n",
    "- 사람들은 패스트캠퍼스의 강의를 어떻게 알게 될까요?\n",
    "- 패스트캠퍼스에서 강의를 결제하는 과정은 어떻게 될까요?\n",
    "- 유저들이 강의를 구매하는 과정을 어떻게 기록할까요?\n",
    "- 결제가 된 내역은 어떻게 관리할까요?"
   ]
  },
  {
   "cell_type": "markdown",
   "metadata": {
    "id": "b59QbYZtSfqO"
   },
   "source": [
    "**제안하는 주제들은 다음과 같습니다.**\n",
    "\n",
    "1. EDA : 강의 구매내역을 가지고 마케팅팀과 콘텐츠 기획팀이 어떤 방향으로 강의를 제작할 수 있을지 아이디어를 제공해주세요.\n",
    "2. 고객군 분석 : 패스트캠퍼스에서 강의를 구매하는 사람들은 어떤 그룹으로 분류될지 고민해보세요. 그룹으로 나뉘게 된다면, 해당 그룹은 어떤 특징을 가지고 있나요?\n",
    "3. 구매 내역 분석 : 사람들은 어떤 강의를 많이 구매할까요? 사람들의 구매 패턴을 파악해보고, 마케팅이 효과가 있었는지 특정 그룹에게 해당 상품이 효과가 있는지 등을 파악해보세요.\n",
    "\n",
    "- 소소한 프로젝트 진행 Tip.\n",
    "    - kaggle에서 거래 내역을 기반으로 분석한 EDA notebook들을 살펴보세요.\n",
    "    - 최대한 많은 그래프를 그려보세요.\n",
    "    - 최대한 다양한 통계량을 계산해보세요.\n",
    "    - 내가 진짜 회사에서 Data Scientist라면? 내가 Performance Marketer라면? 실제 액션 플랜을 상상해보세요.\n",
    "    - 프로젝트의 목적에 대해서 생각해보세요. 데이터 분석 라이브러리 연습을 많이 하고 싶은지, 분석 인사이트를 키우고 싶은지."
   ]
  },
  {
   "cell_type": "code",
   "execution_count": null,
   "metadata": {
    "collapsed": true,
    "id": "L_JBx7wlShlV"
   },
   "outputs": [],
   "source": []
  },
  {
   "cell_type": "markdown",
   "metadata": {
    "id": "dIbhQ11fKvO1"
   },
   "source": [
    "안녕하세요, 이어드림스쿨입니다 🙌\n",
    "\n",
    "이번 **‘이어드림스쿨 2기 과정'**에서 진행될 **미니 프로젝트 : 데이터분석**에 대해 안내해드리고자 합니다 ☺️\n",
    "\n",
    "💡 **프로젝트 개요**\n",
    "\n",
    "- 기간: 2022년 5월 9일 → 2022년 5월 23일\n",
    "- 진행 장소: 온라인(`**ZEP**`), 오프라인\n",
    "- 목적: 인공지능 중급 단계로 넘어가기 전 Python 모듈에 대한 학습이 잘 이루어졌는지 점검함과 동시에, 기업의 실제 데이터를 다루어보는 경험을 통해 심화 학습을 할 수 있습니다.\n",
    "- 평가에 포함되지 않으니, **스스로 혹은 팀원들끼리 문제를 해결해보는 경험을 하는 것이 중요합니다!**\n",
    "- 프로젝트는 기존 그룹 스터디 조로 진행해주세요.\n",
    "- 초급 분들은 강사님과 실습코치 분들이 주기적으로 도움을 드리겠습니다.\n",
    "\n",
    "---\n",
    "\n",
    "💡 **프로젝트 안내사항**\n",
    "\n",
    "- **데이터**: **2021.03.29~2021.09.26 패스트캠퍼스 온라인 강의 결제 내역 데이터**를 제공합니다. (약 10만개)\n",
    "    \n",
    "    \n",
    "    | columns |\n",
    "    | --- |\n",
    "    | id |\n",
    "    | customer_id |\n",
    "    | course_id |\n",
    "    | type |\n",
    "    | state |\n",
    "    | course_title |\n",
    "    | category_title |\n",
    "    | format |\n",
    "    | completed_at |\n",
    "    \n",
    "    | transaction_amount |\n",
    "    | --- |\n",
    "    | coupon_title |\n",
    "    | coupon_discount_amount |\n",
    "    | sale_price |\n",
    "    | tax_free_amount |\n",
    "    | pg |\n",
    "    | method |\n",
    "    | subcategory_title |\n",
    "    | marketing_start_at |\n",
    "- **주제**: 아래의 프로젝트 주제 예시를 참고하여 주제를 선정해주세요. 자유롭게 주제를 선정하셔도 좋습니다!\n",
    "- 프로젝트 진행 중, 중간 보고(**`아이데이션`**) 2회가 계획되어 있습니다.\n",
    "- **`최종 발표`**(**5/23**)는 당일에 랜덤 5개의 팀을 뽑아 발표합니다.\n",
    "**(각 팀의 발표 여부는 미리 알 수 없으니 모든 팀이 발표 준비까지 마쳐야 합니다!)**\n",
    "\n",
    "---\n",
    "\n",
    "💡 **프로젝트 주제 예시**\n",
    "\n",
    "여러분은 **`패스트캠퍼스`**의 **`데이터 사이언티스트`**입니다. 아래의 주제 예시를 참고해서 주제를 설계해보세요🙌\n",
    "\n",
    "1. **고객군 분석** : **`패스트캠퍼스에서 강의를 구매하는 사람들은 어떤 그룹으로 분류될까요?`** 각자의 기준을 제시하고, 기준대로 그룹을 만들어서 특징을 파악해 보세요.\n",
    "\n",
    "\n",
    "2. **콘텐츠 기획 분석** : **`사람들은 어떤 콘텐츠를 많이 구매할까요?`** 마케팅 효과가 있는지, 특정 그룹의 상품이 효과가 있는지 등을 확인해보세요.\n",
    "\n",
    "\n",
    "3. **EDA** : 해당 데이터에서 인사이트를 찾아서 공유해주세요. 이 데이터를 통해 마케팅팀이, 콘텐츠 기획팀이 어떤 일을 추가로 하면 좋을지 알려주세요.\n",
    "\n",
    "---\n",
    "\n",
    "💡 **프로젝트 일정**\n",
    "\n",
    "- 예정되어있는 일정이며, 변경될 수 있습니다."
   ]
  },
  {
   "cell_type": "code",
   "execution_count": null,
   "metadata": {
    "collapsed": true,
    "id": "WTgvQI7IKxrC"
   },
   "outputs": [],
   "source": [
    "# 5/13 1차 아이데이션 제출\n",
    "# 5/20 2차 아이데이션 제출\n",
    "# 5/23 프로젝트 발표"
   ]
  },
  {
   "cell_type": "markdown",
   "metadata": {
    "id": "_Ln3XSm6Lvxi"
   },
   "source": [
    "# 컬럼 별 구분"
   ]
  },
  {
   "cell_type": "markdown",
   "metadata": {
    "id": "0kbKdBemSJlk"
   },
   "source": [
    "**id ( PK, FK )**"
   ]
  },
  {
   "cell_type": "code",
   "execution_count": null,
   "metadata": {
    "collapsed": true,
    "id": "8T_5ADxpVBtE"
   },
   "outputs": [],
   "source": [
    "# int 형식\n",
    "# 고유값 사용"
   ]
  },
  {
   "cell_type": "markdown",
   "metadata": {
    "id": "ftsTVzVfUgkR"
   },
   "source": [
    "**customer_id ( PK, FK 빈값 있어 불가  )**"
   ]
  },
  {
   "cell_type": "code",
   "execution_count": null,
   "metadata": {
    "collapsed": true,
    "id": "0oMbHpTxVCBu"
   },
   "outputs": [],
   "source": [
    "# int 형식\n",
    "# 고유값 사용"
   ]
  },
  {
   "cell_type": "markdown",
   "metadata": {
    "id": "gTG7m-eGVVni"
   },
   "source": [
    "**course_id ( PK, FK 빈값 있어 불가 )**"
   ]
  },
  {
   "cell_type": "code",
   "execution_count": null,
   "metadata": {
    "collapsed": true,
    "id": "c6HKB0uhVbr7"
   },
   "outputs": [],
   "source": [
    "# int 형식\n",
    "# 고유값 사용"
   ]
  },
  {
   "cell_type": "markdown",
   "metadata": {
    "id": "spcP5_VwUinr"
   },
   "source": [
    "**type ( PK, FK )**\n",
    "\n",
    "ORDER\n",
    "\n",
    "PAYMENT\n",
    "\n",
    "REFUND\n",
    "\n",
    "TRANSACTION ( 3rows )"
   ]
  },
  {
   "cell_type": "code",
   "execution_count": 1,
   "metadata": {
    "collapsed": true,
    "id": "cdp3qxV9VCdL"
   },
   "outputs": [],
   "source": [
    "# str 형식\n",
    "# 전체 데이터에서 3건의 TRANSACTION 데이터 가 있음"
   ]
  },
  {
   "cell_type": "markdown",
   "metadata": {
    "id": "brNAqleiUili"
   },
   "source": [
    "**state ( PK, FK )**\n",
    "\n",
    "CANCELLED\n",
    "\n",
    "COMPLETED\n",
    "\n",
    "DELETED\n",
    "\n",
    "PENDING\n",
    "\n",
    "REQUESTED"
   ]
  },
  {
   "cell_type": "code",
   "execution_count": null,
   "metadata": {
    "collapsed": true,
    "id": "_wLdKEJJVHXg"
   },
   "outputs": [],
   "source": [
    "# str 형식\n"
   ]
  },
  {
   "cell_type": "markdown",
   "metadata": {
    "id": "Frxxg10EUijo"
   },
   "source": [
    "**course_title ( 빈값 있음 )**"
   ]
  },
  {
   "cell_type": "code",
   "execution_count": null,
   "metadata": {
    "collapsed": true,
    "id": "faBI8YpQVHIM"
   },
   "outputs": [],
   "source": [
    "# str 형식\n"
   ]
  },
  {
   "cell_type": "markdown",
   "metadata": {
    "id": "O3kvQrDpUihf"
   },
   "source": [
    "**category_title ( 빈값 있음 )**"
   ]
  },
  {
   "cell_type": "code",
   "execution_count": null,
   "metadata": {
    "collapsed": true,
    "id": "bkt7O9pyVG6S"
   },
   "outputs": [],
   "source": [
    "# str 형식\n",
    "# course_title이 빈 값일 때 전부 빈값\n"
   ]
  },
  {
   "cell_type": "markdown",
   "metadata": {
    "id": "FtGuztjxUifW"
   },
   "source": [
    "**format ( 빈값 있음 )**"
   ]
  },
  {
   "cell_type": "code",
   "execution_count": null,
   "metadata": {
    "collapsed": true,
    "id": "L2W4I-cJVGgg"
   },
   "outputs": [],
   "source": [
    "# str 형식\n",
    "# format 빈값인 경우 아래 컬럼들은 빈값이다.\n",
    "# course_id, course_title, category_title, coupon_title, coupon_discount_amount,\n",
    "# sale_price, tax_free_amount, pg, subcategory_title, marketing_start_at\n",
    "\n",
    "# 위의 경우\n",
    "# type 컬럼은 PAYMENT, TRANSACTION 만 존재\n",
    "# state 컬럼의 값은 DELETED, COMPLETED 존재\n",
    "# course_title 컬럼의 빈값의 수와 format의 빈값의 수가 일치\n",
    "\n",
    "# 위 내용을 바탕으로 format이 없을 경우 삭제된 강의라고 유추 할 수 있다.\n",
    "# 그러므로 정상 운영중인 강의는 format은 필수 항목이다."
   ]
  },
  {
   "cell_type": "markdown",
   "metadata": {
    "id": "1c2GXr-QUidE"
   },
   "source": [
    "**completed_at  (Not null)**"
   ]
  },
  {
   "cell_type": "code",
   "execution_count": null,
   "metadata": {
    "collapsed": true,
    "id": "SvqIn9l_VGD2"
   },
   "outputs": [],
   "source": [
    "# date 형식\n"
   ]
  },
  {
   "cell_type": "markdown",
   "metadata": {
    "id": "VkjTNlADUia3"
   },
   "source": [
    "**transaction_amount ( Not Null )**"
   ]
  },
  {
   "cell_type": "code",
   "execution_count": null,
   "metadata": {
    "collapsed": true,
    "id": "d4iixcUsVFmx"
   },
   "outputs": [],
   "source": [
    "# int 형식\n"
   ]
  },
  {
   "cell_type": "markdown",
   "metadata": {
    "id": "vZ4IXAFhUiY4"
   },
   "source": [
    "**coupon_title  ( 빈값 있음 )**"
   ]
  },
  {
   "cell_type": "code",
   "execution_count": null,
   "metadata": {
    "collapsed": true,
    "id": "78HrtjdtVFS9"
   },
   "outputs": [],
   "source": [
    "# str 형식\n",
    "# 빈값일 때 coupon_discount_amount 값 없음\n"
   ]
  },
  {
   "cell_type": "markdown",
   "metadata": {
    "id": "semExrJWUiW1"
   },
   "source": [
    "**coupon_discount_amount  ( 빈값 있음 )**"
   ]
  },
  {
   "cell_type": "code",
   "execution_count": null,
   "metadata": {
    "collapsed": true,
    "id": "ex8wwqdXVFH4"
   },
   "outputs": [],
   "source": [
    "# int 형식\n",
    "# 빈값일때 coupon_title 값 없음\n"
   ]
  },
  {
   "cell_type": "markdown",
   "metadata": {
    "id": "x0NPhHWXUiUy"
   },
   "source": [
    "sale_price  ( 빈값 있음 )"
   ]
  },
  {
   "cell_type": "code",
   "execution_count": null,
   "metadata": {
    "collapsed": true,
    "id": "yMulLJQ0VE6y"
   },
   "outputs": [],
   "source": [
    "# int 형식\n",
    "# 빈값일때  coupon_title, coupon_discount_amount, tax_free_amount, pg 값 없음\n"
   ]
  },
  {
   "cell_type": "markdown",
   "metadata": {
    "id": "D3ByFOMBUiSL"
   },
   "source": [
    "**tax_free_amount  ( 빈값 있음 )**"
   ]
  },
  {
   "cell_type": "code",
   "execution_count": null,
   "metadata": {
    "collapsed": true,
    "id": "D1PRZiPSVEFA"
   },
   "outputs": [],
   "source": [
    "# int 형식\n",
    "# 위와 동일\n"
   ]
  },
  {
   "cell_type": "markdown",
   "metadata": {
    "id": "GWJ3JZO4UiQK"
   },
   "source": [
    "**pg  ( 빈값 있음 )**"
   ]
  },
  {
   "cell_type": "code",
   "execution_count": null,
   "metadata": {
    "collapsed": true,
    "id": "j8vnJ9D4VDzX"
   },
   "outputs": [],
   "source": [
    "# 대부분의 항목이 빈 값\n"
   ]
  },
  {
   "cell_type": "markdown",
   "metadata": {
    "id": "318WgB4JUiNl"
   },
   "source": [
    "**method ( 빈값 있음 )**"
   ]
  },
  {
   "cell_type": "code",
   "execution_count": null,
   "metadata": {
    "collapsed": true,
    "id": "JSWoNcztVDjz"
   },
   "outputs": [],
   "source": [
    "# str 형식\n",
    "# 빈값일 때 pg 빈값이 없음 \n"
   ]
  },
  {
   "cell_type": "markdown",
   "metadata": {
    "id": "EblEndFvUiJZ"
   },
   "source": [
    "**subcategory_title  ( 빈값 있음 )**"
   ]
  },
  {
   "cell_type": "code",
   "execution_count": null,
   "metadata": {
    "collapsed": true,
    "id": "nPOijHOAVDU_"
   },
   "outputs": [],
   "source": [
    "# str 형식\n"
   ]
  },
  {
   "cell_type": "markdown",
   "metadata": {
    "id": "NaIAGODJUiGx"
   },
   "source": [
    "**marketing_start_at  ( 빈값 있음 )**"
   ]
  },
  {
   "cell_type": "code",
   "execution_count": null,
   "metadata": {
    "collapsed": true,
    "id": "sLn07vFsVDFy"
   },
   "outputs": [],
   "source": [
    "# date 형식\n"
   ]
  },
  {
   "cell_type": "markdown",
   "metadata": {
    "id": "z1ekgY9JS3Ha"
   },
   "source": [
    "# 김용담 강사님 답변"
   ]
  },
  {
   "cell_type": "markdown",
   "metadata": {
    "id": "2uYnbEk8S6Ls"
   },
   "source": [
    "id : Dtype : int 추정(이하 추정 추가하지 않음) / 어떤 id인지 확인 필요 / 중복 여부 확인 / unique한 건가요?\n",
    "```\n",
    "=> 네. TransactionID 같은 느낌입니다. (각 거래내역에 대한 ID)\n",
    "```\n",
    "customer_id : Dtype: int / 어떤 고객 id 인지, 중복 있음. / 1대다수적인지\n",
    "```\n",
    "=> 중복이 있습니다. 왜냐면 같은 고객이 여러 강의를 결제할 수 있습니다. \n",
    "(물론 그거말고 취소 내역까지 포함하면 더 많은 경우)\n",
    "```\n",
    "course_id : Dtype: int / 빈 곳이 있던데 이유가? / 강의의 자체적 id번호 인 건지 다른 건지\n",
    "```\n",
    "=> 강의 자체의 id이고, 비어있는 값은 추가 확인이 필요할 것 같습니다. \n",
    "(저의 추측으로는 데이터를 추출할 당시에 폐기된 강의가 아닐까..)\n",
    "```\n",
    "\n",
    "\n",
    "type : Dtype: vchar OR string / order와 payment 기준 -> 고객이 낸 건지 다른 건지\n",
    "```\n",
    "=> order는 결제 페이지까지는 갔지만, 아직 결제하지 않은 상태(흔히 \n",
    "얘기하는 장바구니에 담음)이고, payment는 최종 결제가 일어난 상태입니다.\n",
    "```\n",
    "state : Dtype: varchar OR string  / CANCELLED : 결제가 취소된 상황, PENDING : pg사에서 결제 완료가 안된 상태, DELETED : 테이블에서 제거를 해야하는 상태 -> COMPLETE : pg 처리까지 완료된 상태 맞나요?\n",
    "```\n",
    "=> 네 맞습니다.\n",
    "```\n",
    "\n",
    "course_title : Dtype: varchar OR string  / 패키지와 아닌 것, 프로모션인 것 과 아닌 것 한정판매 및 프리패스, 평생소장 등의 기준을 잡고 분석하는 게 좋을까요?\n",
    "```\n",
    "=> 말씀하신것처럼 강의 기획별로 해도 좋고, 분야별(e.g. UX/UI, 프론트앤드 \n",
    "등..)로 분석하는것도 방법입니다.\n",
    "```\n",
    "category_title : Dtype: varchar OR string  / 카테고리적 분류인 건지?\n",
    "```\n",
    "=> 네 맞습니다. 대분류 느낌입니다.\n",
    "```\n",
    "\n",
    "format : Dtype: varchar OR string  / 올인원, 스쿨 온라인, 온라인 완주반, RED 등 나누는 기준도 따로 있을까요?\n",
    "```\n",
    "=> 이거는 강의 기획 당시에 어떤 형태로 만들었냐의 차이입니다. 올인원은 \n",
    "지금의 초격차 패키지랑 같은 컨셉이고, 온라인 완주반, The RED도 다른 형태의 기획 강의입니다.\n",
    "```\n",
    "completed_at : Dtype: date / 완료로 치는 기준, 강사분의 마지막 업로드 기준인지?\n",
    "```\n",
    "=> 결제 완료 시점입니다. 지금 이 데이터는 강의에 관련된 내용은 전혀 없고, \n",
    "거래 내역 데이터입니다.\n",
    "```\n",
    "transaction_amount : Dtype: int / 총 금액인 건지, 총 금액 중 할인 등이 없는 가장 처음 책정된 금액인지\n",
    "```\n",
    "=> transaction이 거래 내역이라는 의미입니다. 최종 결제 금액입니다.\n",
    "```\n",
    "\n",
    "coupon_title : Dtype: varchar OR string /  단발성 쿠폰인지 아닌지 여부 및 한 강의만 적용되는 건지 여러번 되는 건지\n",
    "```\n",
    "=> 보통 coupon을 발행할 때는 강의별로 만드는건 아니고, 쿠폰의 효과가 \n",
    "적용된 다른 entity입니다. 여러 강의에 적용될 수 있습니다. 하지만 실제 coupon_id는 다르겠죠.\n",
    "```\n",
    "coupon_discount_amount : Dtype: int / 강의 한 편당 할인 금액인지 전체 할인 금액인지\n",
    "```\n",
    "=> 해당 row가 어떤 단위로 정의되었는지 고민해보시면 아실 수 있을 겁니다. \n",
    "```\n",
    "(그리고 퍼센트 할인이라고 하면, 전체에 하든 개별로 하든 같습니다)\n",
    "sale_price : Dtype: 마찬가지, 전체적 할인 금액인지, 쿠폰을 써야만 활성화 되는 등의 조건적 활성화 금액인건지\n",
    "```\n",
    "=> 쿠폰 말고도 이벤트 같은 다른 조건에 의한 할인도 있습니다. (데이터에 나와있음)\n",
    "```\n",
    "\n",
    "tax_free_amount : Dtype: int / transaction 기준인 건지 할인 및 추가적 적용 이후 금액인지\n",
    "```\n",
    "=> 원래는 VAT를 제외한 금액이어야 하는데, 주어진 데이터에서는 다 같습니다.\n",
    "```\n",
    "\n",
    "pg : Dtype: pg 가 무슨 단어의 약자인지 부터 기준 궁금합니다. 비어있는데 꼭 필요한 컬럼인지, 무슨 데이터 타입인건지..\n",
    "```\n",
    "=>  PG(Payment Gateway)라고 해서 실제로 온라인 거래할 때 사용하는 \n",
    "금융거래 대행사를 의미합니다.(e.g. 카카오페이, 토스페이먼트, U+ pay 등..) \n",
    "비어있는 것은 default PG사를 의미합니다. (LG U+ 같은 언급이 안되어있는 다른 회사중에 하나)\n",
    "```\n",
    "method : Dtype: varchar OR string / VBANK : 가상계좌 CARD의 의미 및 기준. \n",
    "신용카드/체크카드 등. 구분 필요한지. -> 가상계좌라는 것이 계좌이체 및 네이버페이 등 이런 류를 모두 포함하는 건가요?\n",
    "```\n",
    "=> 아닙니다. 가상계좌를 통한 결제 방법을 의미합니다.\n",
    "일반적인 다른 온라인 결제에서 통용되는 것과 같습니다.\n",
    "```\n",
    "\n",
    "subcategory_title : Dtype: varchar OR string / 서브 카테고리라고 되어있는데 category_title의 하위적 분류인 건지 별도인건지 체크 필요.\n",
    "```\n",
    "=> 하위 분류가 맞습니다.\n",
    "```\n",
    "\n",
    "marketing_start_at : Dtype: date / 마케팅 기준, 쿠폰인 건지 패키지인건지 등 기준 필요. 해당의 종료일도 필요한지.\n",
    "```\n",
    "=> 해당 강의의 마케팅이 시작된 기준입니다. 여기서 마케팅은\n",
    "해당 강의를 판매한 시점이라고 생각하시면 됩니다. (즉, landing page가 최초로 올라간 시점)\n",
    "```"
   ]
  },
  {
   "cell_type": "code",
   "execution_count": null,
   "metadata": {
    "collapsed": true,
    "id": "3X8-XY9sTWVm"
   },
   "outputs": [],
   "source": []
  },
  {
   "cell_type": "markdown",
   "metadata": {
    "id": "GEreHyBEpqR9"
   },
   "source": [
    "# do"
   ]
  },
  {
   "cell_type": "markdown",
   "metadata": {
    "id": "3GsTpfanpwfq"
   },
   "source": [
    "##### 2022.05.11. 오전 log by 이정훈\n",
    "개인적인 목적 : 다량의 데이터에 대한 분석 인사이트 역량을 키우고자 함(Pandas에 익숙해지기 위함이기도 하다.)\n",
    "* Process flow\n",
    "1. Data를 넘겨받는다.\n",
    "\n",
    "2. Data의 형태와 종류, 구조를 살펴보고 전처리를 진행한다\n",
    "    - 전처리 특기사항 : type column에서 ORDER의 경우 삭제하는게, 이익(PAYMENT) 측면에서 봐야하니(강사님의 서술)\n",
    "    - 결측치 : 단순 누락/유실일 지, 공통적으로 없는지 점검해보기\n",
    "        - 복잡하게 생각하지 말기!\n",
    "    - 아래 3.에서의 column 값 뽑기전에, data format과 결측치 확인 하고 진행하기.\n",
    "    \n",
    "3. 미래의 방향성을 제시하려면, 현재의 데이터를 잘 알아야한다. - 현재 이익(기준 : transaction_amount) 이 나게 된 원인을 분석하자.\n",
    "    - sale_price(과정에 대한 고정가격), transaction_amount(마케팅, 할인가격 등이 반영된)를 일단 살펴본다.\n",
    "    - group_by를 통해 category_title로 묶어서 다시 위 경향에 대해 살펴보자.\n",
    "    - method 별로 group_by 해서 count, transaction_amount 출력해보자. \n",
    "    - pg의 결측치/유효데이터를 확인하고, count 해보자\n",
    "        - (편중되는 쪽이 있다면, 이용자가 많다고 간주해도 되니, 마케팅 정책을 수립할 수 있을 것이다.)\n",
    "    - 필터 두번해야될 component 있는지 확인 (예시 : 프로그래밍 - 개발자커리어와 프론트엔드 등 다수 존재) 후 count, transaction_amount진행\n",
    "    - group_by로 format로 묶어서 transacion_amount 뽑아보자(이때 count는 중요하지 않을 것)\n",
    "    - group_by로 course_id 또한 동일하게 진행해 보기\n",
    "        * 소결 1회 진행\n",
    "\n",
    "    - 기간별 판매실적(completed_at) 데이터를 출력해보자. (3,4,5,6,7,8월 등 샘플링 한 것이니까. 경향성이 나올 것이다.)\n",
    "    - 같은 category에서 coupon_title이 존재하는 row를 각각 count 해보자, 기간과 마케팅은 관련성이 있다고 생각하니, 유효한 경향성을 확인할 수 있을 지 모른다.\n",
    "        * 소결 2회 진행\n",
    "4. 결론 및 총평 정리\n",
    "    - 이런 걸 확인 할 수 있었다 위주(모든 EDA가 유의미한 결과가 있는 것은 아니므로)\n",
    "    - 과정 중 어려웠거나 도전적인 부분 있었다면 기술 및 해결여부 확인(그냥 포기했는지, 어떤 방법으로 완수했는지)\n",
    "    - 시간이 더 주어진다면 향후 계획  \n",
    "        - 추가적으로 해볼 수 있다면 ? : 고객 customer_id 에 대한 샘플링 및 분석"
   ]
  },
  {
   "cell_type": "code",
   "execution_count": 1,
   "metadata": {},
   "outputs": [
    {
     "name": "stdout",
     "output_type": "stream",
     "text": [
      "/Users/Kimdaseul/Downloads/MiniProject\r\n"
     ]
    }
   ],
   "source": []
  },
  {
   "cell_type": "code",
   "execution_count": null,
   "metadata": {
    "collapsed": true,
    "id": "OIv4lp8Opv_H"
   },
   "outputs": [],
   "source": [
    "# 마케팅 시작 시기 ~ 끝난 시기에 구입 증가율 \n",
    "# 가격 별 구입 현황 분포 ( 많이 구입하는 가격대, 분야, )\n",
    "# 세일 강의 구입 비중 ( 마케팅 시기, 분야 별)\n",
    "# 아쉽게도 구입일자는 없음\n",
    "\n",
    "# completed_at 수강완료일 인지 마케팅 완료일인지 확인 필요"
   ]
  }
 ],
 "metadata": {
  "colab": {
   "name": "프로젝트20220509",
   "provenance": []
  },
  "kernelspec": {
   "display_name": "Python 3 (ipykernel)",
   "language": "python",
   "name": "python3"
  },
  "language_info": {
   "codemirror_mode": {
    "name": "ipython",
    "version": 3
   },
   "file_extension": ".py",
   "mimetype": "text/x-python",
   "name": "python",
   "nbconvert_exporter": "python",
   "pygments_lexer": "ipython3",
   "version": "3.9.10"
  }
 },
 "nbformat": 4,
 "nbformat_minor": 1
}
